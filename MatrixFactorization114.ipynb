{
  "nbformat": 4,
  "nbformat_minor": 0,
  "metadata": {
    "colab": {
      "name": "MatrixFactorization.ipynb",
      "provenance": [],
      "collapsed_sections": [
        "8lUoU89GKaUM"
      ]
    },
    "kernelspec": {
      "name": "python3",
      "display_name": "Python 3"
    },
    "language_info": {
      "name": "python"
    }
  },
  "cells": [
    {
      "cell_type": "code",
      "metadata": {
        "id": "aspK6W4Tyhoc",
        "colab": {
          "base_uri": "https://localhost:8080/"
        },
        "outputId": "ece5674f-bdea-4397-caa0-0f3930365ba5"
      },
      "source": [
        "import pandas as pd\n",
        "import numpy as np\n",
        "from google.colab import drive\n",
        "drive.mount('/content/drive')\n",
        "from sklearn.preprocessing import normalize\n",
        "import gc\n",
        "import matplotlib.pyplot as plt\n",
        "%matplotlib inline\n",
        "from sklearn.metrics.pairwise import cosine_similarity\n",
        "import seaborn as sns\n"
      ],
      "execution_count": 1,
      "outputs": [
        {
          "output_type": "stream",
          "text": [
            "Drive already mounted at /content/drive; to attempt to forcibly remount, call drive.mount(\"/content/drive\", force_remount=True).\n"
          ],
          "name": "stdout"
        }
      ]
    },
    {
      "cell_type": "code",
      "metadata": {
        "id": "V8nfMHfv15WQ",
        "colab": {
          "base_uri": "https://localhost:8080/"
        },
        "outputId": "f60eb8e0-9ff2-445d-eb1d-66a39aa076e2"
      },
      "source": [
        "\n",
        "#df5= pd.read_csv('/content/drive/MyDrive/Colab Notebooks/short_movies.csv')\n",
        "df= pd.read_csv('/content/drive/MyDrive/Colab Notebooks/Modified MatrixFactorization.csv',dtype=np.float32,converters={'Index':np.uint16},index_col=[0])\n",
        "#df.to_csv()"
      ],
      "execution_count": 2,
      "outputs": [
        {
          "output_type": "stream",
          "text": [
            "/usr/local/lib/python3.7/dist-packages/ipykernel_launcher.py:3: ParserWarning: Both a converter and dtype were specified for column Index - only the converter will be used\n",
            "  This is separate from the ipykernel package so we can avoid doing imports until\n"
          ],
          "name": "stderr"
        }
      ]
    },
    {
      "cell_type": "code",
      "metadata": {
        "id": "CpctigQr1kGy"
      },
      "source": [
        "\n",
        "df=df.sort_index()"
      ],
      "execution_count": 8,
      "outputs": []
    },
    {
      "cell_type": "markdown",
      "metadata": {
        "id": "J_8rEm4c-Z4q"
      },
      "source": [
        "# **DATASET**\n",
        "\n",
        "**row column reduction`**`\n",
        "\n"
      ]
    },
    {
      "cell_type": "code",
      "metadata": {
        "id": "-0FfxBt77sOU"
      },
      "source": [
        "#print(df.index)\n",
        "\n",
        "# df.drop(df[df['Index']%291==0].index,inplace=True)\n",
        "# df.drop(columns=[(s)  for s in df.columns.to_list() if s.isdigit() and not int(s)==0 and  int(s)%291==0],inplace=True)\n",
        "# df.shape\n"
      ],
      "execution_count": 4,
      "outputs": []
    },
    {
      "cell_type": "markdown",
      "metadata": {
        "id": "MMVTmPy-_Ii0"
      },
      "source": [
        " **Remove *NaN* Value**"
      ]
    },
    {
      "cell_type": "code",
      "metadata": {
        "id": "p78SgCtC_brk"
      },
      "source": [
        "#from sklearn.impute import SimpleImputer\n",
        "df1=df\n",
        "df1=df1.fillna(df1.mean())\n",
        "#df1=SimpleImputer(missing_values=np.nan,strategy='median')\n",
        "#df1.head()\n",
        "# temp=df1.fit_transform(df)\n",
        "# df1=pd.DataFrame(temp,index=df.index,columns=df.columns)"
      ],
      "execution_count": 3,
      "outputs": []
    },
    {
      "cell_type": "code",
      "metadata": {
        "id": "dvAnXQp6bwhM"
      },
      "source": [
        "#df1.head(10)"
      ],
      "execution_count": null,
      "outputs": []
    },
    {
      "cell_type": "code",
      "metadata": {
        "id": "DuidfrdVV1PV"
      },
      "source": [
        "#df.head(10)"
      ],
      "execution_count": null,
      "outputs": []
    },
    {
      "cell_type": "markdown",
      "metadata": {
        "id": "iIGX1WzFyjzY"
      },
      "source": [
        "# **Implementation**"
      ]
    },
    {
      "cell_type": "markdown",
      "metadata": {
        "id": "rIFZdVcrEX7t"
      },
      "source": [
        "**Normalize User Matrix U**"
      ]
    },
    {
      "cell_type": "code",
      "metadata": {
        "id": "BdlK8tcBEfmi"
      },
      "source": [
        "def normalize_UserMatrix(n,k):\n",
        "  from sklearn.preprocessing import StandardScaler\n",
        "  scaler = StandardScaler()\n",
        "  np.random.seed(10)\n",
        "  #U_matrix= (np.random.rand(n, k))# randomly initialize User Matrix\n",
        "  user_matrix= np.single(np.random.rand(n, k))# randomly initialize User Matrix\n",
        "  user_matrix = normalize(user_matrix, norm='l2')\n",
        "  '''scaler.fit_transform(user_matrix)'''\n",
        "  print(\"shape: \",user_matrix.shape)\n",
        "  return user_matrix"
      ],
      "execution_count": 4,
      "outputs": []
    },
    {
      "cell_type": "markdown",
      "metadata": {
        "id": "8lUoU89GKaUM"
      },
      "source": [
        "# **Dimension Of U & V matrix**"
      ]
    },
    {
      "cell_type": "code",
      "metadata": {
        "id": "RLsUpcpMaV1k"
      },
      "source": [
        "#lamda_V*np.identity(latent_Factor,dtype=float)"
      ],
      "execution_count": null,
      "outputs": []
    },
    {
      "cell_type": "code",
      "metadata": {
        "id": "-_ndWnsi4Pht"
      },
      "source": [
        "# V_matrix= np.single(np.dot(np.linalg.inv(np.dot(U_matrix.T,U_matrix)+lamda_V*np.identity(latent_Factor)),(np.dot(df1.T,U_matrix)).T))\n",
        "# print(V_matrix.shape)\n",
        "# V_matrix"
      ],
      "execution_count": null,
      "outputs": []
    },
    {
      "cell_type": "code",
      "metadata": {
        "id": "NgU1kq2-S1iW"
      },
      "source": [
        "# U_matrix=np.single((np.dot(np.linalg.inv(np.dot(V_matrix,V_matrix.T)+lamda_U*np.identity(latent_Factor)),(np.dot(df1,V_matrix.T)).T)).T)\n",
        "# print(U_matrix.shape)"
      ],
      "execution_count": null,
      "outputs": []
    },
    {
      "cell_type": "code",
      "metadata": {
        "id": "r1T4c1qXTe0L"
      },
      "source": [
        "#np.dot(U_matrix,V_matrix)"
      ],
      "execution_count": null,
      "outputs": []
    },
    {
      "cell_type": "markdown",
      "metadata": {
        "id": "zcSKtAfhzRXv"
      },
      "source": [
        "# **Matrix Factorization Procedure**"
      ]
    },
    {
      "cell_type": "code",
      "metadata": {
        "id": "WwxYfggCl8Rb"
      },
      "source": [
        "def error_calculation(new_matrix):\n",
        "  mse2= (np.square(np.abs(df1-new_matrix)))\n",
        "  #print(mse2)\n",
        "  listV=mse2.to_numpy()\n",
        "  #print('\\n',listV)\n",
        "  sumnan=np.nansum(listV)\n",
        "  #print(sumnan)\n",
        "  temp=sum(df1.count())\n",
        "  #print(temp)\n",
        "  return((sumnan/temp))\n",
        "#print(sum(np.sum(mse2/17,axis=1)))\n",
        "\n",
        "#print((np.square(df5 - new_matrix)).mean(axis=None))\n"
      ],
      "execution_count": 5,
      "outputs": []
    },
    {
      "cell_type": "code",
      "metadata": {
        "id": "RWF0Rx4hKsqZ"
      },
      "source": [
        "def Matrix_factorization(k,n,lamda_u,lamda_v):\n",
        "\n",
        "  for i in k:\n",
        "    min_mase=float('inf')\n",
        "    count=0\n",
        "    loop=500\n",
        "    X_axis=[]\n",
        "    iteration=[]\n",
        "    U_matrix=normalize_UserMatrix(n,i)\n",
        "    print(\"\\t\\tK :\",i)\n",
        "    for j in range(loop):\n",
        "      iteration.append(j)\n",
        "      #print(U_matrix)\n",
        "      print(\":::::Iteration::::\",j+1)\n",
        "      V_matrix= np.single(np.dot(np.linalg.inv(np.dot(U_matrix.T,U_matrix)+lamda_V*np.identity(i)),(np.dot(df1.T,U_matrix)).T))\n",
        "      U_matrix= np.single((np.dot(np.linalg.inv(np.dot(V_matrix,V_matrix.T)+lamda_U*np.identity(i)),(np.dot(df1,V_matrix.T)).T)).T)\n",
        "      new_matrix= np.dot(U_matrix,V_matrix)\n",
        "      meanSquareError= error_calculation(new_matrix)\n",
        "      Y_axis=[j]\n",
        "      if meanSquareError<min_mase:\n",
        "        print(meanSquareError,':::',min_mase)\n",
        "        min_mase=meanSquareError\n",
        "        X_axis.append(min_mase)\n",
        "        Usr_matrix=U_matrix\n",
        "        movie_matrix=V_matrix\n",
        "      elif meanSquareError>=min_mase:\n",
        "        count=1\n",
        "        print(\"\\n\\n::::::::::::elseeeeee:::::::::::\")\n",
        "        print(meanSquareError,':::',min_mase)\n",
        "        X_axis.append(meanSquareError)\n",
        "        plt.plot(np.array(iteration).reshape(j+1,1),np.array(X_axis).reshape(j+1,1),linestyle='--' ,label=\"K=\"+str(i))\n",
        "        plt.xlabel(\"Iteration\")\n",
        "        plt.ylabel(\"MSE\")\n",
        "        plt.legend()\n",
        "        plt.grid(color = 'green', linestyle = 'solid', linewidth = 0.5)\n",
        "        plt.show()\n",
        "        break\n",
        "    \n",
        "    if count==0:\n",
        "      plt.plot(np.array(iteration).reshape(j+1,1),np.array(X_axis).reshape(j+1,1),linestyle='--' ,label=\"K=\"+str(i))\n",
        "      plt.legend()\n",
        "      plt.grid(color = 'green', linestyle = 'solid', linewidth = 0.5)\n",
        "      plt.show()\n",
        "\n",
        "  return X_axis,Usr_matrix,movie_matrix,new_matrix\n",
        "  "
      ],
      "execution_count": 6,
      "outputs": []
    },
    {
      "cell_type": "markdown",
      "metadata": {
        "id": "uoVuLmzqIuc-"
      },
      "source": [
        "# **Main Calling Function**"
      ]
    },
    {
      "cell_type": "code",
      "metadata": {
        "colab": {
          "base_uri": "https://localhost:8080/",
          "height": 1000
        },
        "id": "omjJClL-Is8e",
        "outputId": "98456b6f-f095-4b4b-aeab-b1a0cf86476a"
      },
      "source": [
        "latent_Factor=[700]\n",
        "k=latent_Factor\n",
        "N=df1.shape[0]\n",
        "\n",
        "group_id=226\n",
        "lamda_U=(0.00015 + 0.0001*(group_id % 8))\n",
        "lamda_V=(0.00025 + 0.0001*(group_id % 7))\n",
        "X_axis,u_matrix,v_matrix,new_M=Matrix_factorization(k,N,lamda_U,lamda_V)\n",
        "\n",
        "\n"
      ],
      "execution_count": 7,
      "outputs": [
        {
          "output_type": "stream",
          "text": [
            "shape:  (44799, 700)\n",
            "\t\tK : 700\n",
            ":::::Iteration:::: 1\n",
            "5.140359244552457 ::: inf\n",
            ":::::Iteration:::: 2\n",
            "5.002495867640964 ::: 5.140359244552457\n",
            ":::::Iteration:::: 3\n",
            "4.914926903850726 ::: 5.002495867640964\n",
            ":::::Iteration:::: 4\n",
            "4.862029551379224 ::: 4.914926903850726\n",
            ":::::Iteration:::: 5\n",
            "4.828858289225107 ::: 4.862029551379224\n",
            ":::::Iteration:::: 6\n",
            "4.806963752410425 ::: 4.828858289225107\n",
            ":::::Iteration:::: 7\n",
            "4.791835996956218 ::: 4.806963752410425\n",
            ":::::Iteration:::: 8\n",
            "4.780974536582584 ::: 4.791835996956218\n",
            ":::::Iteration:::: 9\n",
            "4.772976883461005 ::: 4.780974536582584\n",
            ":::::Iteration:::: 10\n",
            "4.766940761812297 ::: 4.772976883461005\n",
            ":::::Iteration:::: 11\n",
            "4.762266376350682 ::: 4.766940761812297\n",
            ":::::Iteration:::: 12\n",
            "4.75861020795794 ::: 4.762266376350682\n",
            ":::::Iteration:::: 13\n",
            "4.755662601555911 ::: 4.75861020795794\n",
            ":::::Iteration:::: 14\n",
            "4.753329713575958 ::: 4.755662601555911\n",
            ":::::Iteration:::: 15\n",
            "4.751370477970209 ::: 4.753329713575958\n",
            ":::::Iteration:::: 16\n",
            "4.749775424286782 ::: 4.751370477970209\n",
            ":::::Iteration:::: 17\n",
            "4.748455587674677 ::: 4.749775424286782\n",
            ":::::Iteration:::: 18\n",
            "4.7473303258012125 ::: 4.748455587674677\n",
            ":::::Iteration:::: 19\n",
            "4.7463597479751325 ::: 4.7473303258012125\n",
            ":::::Iteration:::: 20\n",
            "4.745534670727948 ::: 4.7463597479751325\n",
            ":::::Iteration:::: 21\n",
            "4.744832996338603 ::: 4.745534670727948\n",
            ":::::Iteration:::: 22\n",
            "4.744209381431427 ::: 4.744832996338603\n",
            ":::::Iteration:::: 23\n",
            "4.74369166339528 ::: 4.744209381431427\n",
            ":::::Iteration:::: 24\n",
            "4.743216705884292 ::: 4.74369166339528\n",
            ":::::Iteration:::: 25\n",
            "4.74277331654624 ::: 4.743216705884292\n",
            ":::::Iteration:::: 26\n",
            "4.742421761893092 ::: 4.74277331654624\n",
            ":::::Iteration:::: 27\n",
            "4.742106367147124 ::: 4.742421761893092\n",
            ":::::Iteration:::: 28\n",
            "4.741795564135402 ::: 4.742106367147124\n",
            ":::::Iteration:::: 29\n",
            "4.7415456016024295 ::: 4.741795564135402\n",
            ":::::Iteration:::: 30\n",
            "4.74129018638504 ::: 4.7415456016024295\n",
            ":::::Iteration:::: 31\n",
            "4.741077244709419 ::: 4.74129018638504\n",
            ":::::Iteration:::: 32\n",
            "4.740870616668385 ::: 4.741077244709419\n",
            ":::::Iteration:::: 33\n",
            "4.740681494614161 ::: 4.740870616668385\n",
            ":::::Iteration:::: 34\n",
            "4.74052221883253 ::: 4.740681494614161\n",
            ":::::Iteration:::: 35\n",
            "4.740379014120758 ::: 4.74052221883253\n",
            ":::::Iteration:::: 36\n",
            "4.740237244325937 ::: 4.740379014120758\n",
            ":::::Iteration:::: 37\n",
            "4.7401149894016585 ::: 4.740237244325937\n",
            ":::::Iteration:::: 38\n",
            "4.7399973262116255 ::: 4.7401149894016585\n",
            ":::::Iteration:::: 39\n",
            "4.739879376038202 ::: 4.7399973262116255\n",
            ":::::Iteration:::: 40\n",
            "4.739808491140791 ::: 4.739879376038202\n",
            ":::::Iteration:::: 41\n",
            "4.739705464103665 ::: 4.739808491140791\n",
            ":::::Iteration:::: 42\n",
            "4.7396256827211545 ::: 4.739705464103665\n",
            ":::::Iteration:::: 43\n",
            "4.739549345139328 ::: 4.7396256827211545\n",
            ":::::Iteration:::: 44\n",
            "4.7394784602419175 ::: 4.739549345139328\n",
            ":::::Iteration:::: 45\n",
            "4.739394948075333 ::: 4.7394784602419175\n",
            ":::::Iteration:::: 46\n",
            "4.739323776194532 ::: 4.739394948075333\n",
            ":::::Iteration:::: 47\n",
            "4.739276710918519 ::: 4.739323776194532\n",
            ":::::Iteration:::: 48\n",
            "4.739218453290283 ::: 4.739276710918519\n",
            ":::::Iteration:::: 49\n",
            "4.739168518180366 ::: 4.739218453290283\n",
            ":::::Iteration:::: 50\n",
            "4.7391174351368885 ::: 4.739168518180366\n",
            ":::::Iteration:::: 51\n",
            "4.73906577812663 ::: 4.7391174351368885\n",
            ":::::Iteration:::: 52\n",
            "4.739031053136401 ::: 4.73906577812663\n",
            ":::::Iteration:::: 53\n",
            "4.738992884345487 ::: 4.739031053136401\n",
            ":::::Iteration:::: 54\n",
            "4.738970212657652 ::: 4.738992884345487\n",
            ":::::Iteration:::: 55\n",
            "4.738937209567764 ::: 4.738970212657652\n",
            ":::::Iteration:::: 56\n",
            "4.738900188710413 ::: 4.738937209567764\n",
            ":::::Iteration:::: 57\n",
            "4.738857141201864 ::: 4.738900188710413\n",
            ":::::Iteration:::: 58\n",
            "4.738833608563857 ::: 4.738857141201864\n",
            ":::::Iteration:::: 59\n",
            "4.738790848038699 ::: 4.738833608563857\n",
            ":::::Iteration:::: 60\n",
            "4.738767602384082 ::: 4.738790848038699\n",
            ":::::Iteration:::: 61\n",
            "4.7387325904104625 ::: 4.738767602384082\n",
            ":::::Iteration:::: 62\n",
            "4.738713936490091 ::: 4.7387325904104625\n",
            ":::::Iteration:::: 63\n",
            "4.7386843772008875 ::: 4.738713936490091\n",
            ":::::Iteration:::: 64\n",
            "4.738661992496443 ::: 4.7386843772008875\n",
            ":::::Iteration:::: 65\n",
            "4.738644773493023 ::: 4.738661992496443\n",
            ":::::Iteration:::: 66\n",
            "4.7386281284563845 ::: 4.738644773493023\n",
            ":::::Iteration:::: 67\n",
            "4.738618084037723 ::: 4.7386281284563845\n",
            ":::::Iteration:::: 68\n",
            "4.738592829499375 ::: 4.738618084037723\n",
            ":::::Iteration:::: 69\n",
            "4.738570731778319 ::: 4.738592829499375\n",
            ":::::Iteration:::: 70\n",
            "4.738565566077293 ::: 4.738570731778319\n",
            ":::::Iteration:::: 71\n",
            "4.7385400245555545 ::: 4.738565566077293\n",
            ":::::Iteration:::: 72\n",
            "4.738529693153502 ::: 4.7385400245555545\n",
            ":::::Iteration:::: 73\n",
            "4.738508169399228 ::: 4.738529693153502\n",
            ":::::Iteration:::: 74\n",
            "4.738473444408999 ::: 4.738508169399228\n",
            ":::::Iteration:::: 75\n",
            "4.738450198754383 ::: 4.738473444408999\n",
            ":::::Iteration:::: 76\n",
            "4.7384329797509634 ::: 4.738450198754383\n",
            ":::::Iteration:::: 77\n",
            "4.738423796282473 ::: 4.7384329797509634\n",
            ":::::Iteration:::: 78\n",
            "4.738417482647885 ::: 4.738423796282473\n",
            ":::::Iteration:::: 79\n",
            "4.7384062902956625 ::: 4.738417482647885\n",
            ":::::Iteration:::: 80\n",
            "4.738383905591218 ::: 4.7384062902956625\n",
            ":::::Iteration:::: 81\n",
            "4.738364103737285 ::: 4.738383905591218\n",
            ":::::Iteration:::: 82\n",
            "4.738358938036259 ::: 4.738364103737285\n",
            ":::::Iteration:::: 83\n",
            "4.738343153949791 ::: 4.738358938036259\n",
            ":::::Iteration:::: 84\n",
            "4.738336840315204 ::: 4.738343153949791\n",
            ":::::Iteration:::: 85\n",
            "4.7383259349463716 ::: 4.738336840315204\n",
            ":::::Iteration:::: 86\n",
            "4.73831474259415 ::: 4.7383259349463716\n",
            ":::::Iteration:::: 87\n",
            "4.738313881643978 ::: 4.73831474259415\n",
            ":::::Iteration:::: 88\n",
            "4.738309002926343 ::: 4.738313881643978\n",
            ":::::Iteration:::: 89\n",
            "4.73830670705922 ::: 4.738309002926343\n",
            ":::::Iteration:::: 90\n",
            "4.73830613309244 ::: 4.73830670705922\n",
            ":::::Iteration:::: 91\n",
            "4.738295801690388 ::: 4.73830613309244\n",
            ":::::Iteration:::: 92\n",
            "4.738294653756826 ::: 4.738295801690388\n",
            ":::::Iteration:::: 93\n",
            "4.738283461404603 ::: 4.738294653756826\n",
            ":::::Iteration:::: 94\n",
            "4.738271982068991 ::: 4.738283461404603\n",
            ":::::Iteration:::: 95\n",
            "4.7382590678164265 ::: 4.738271982068991\n",
            ":::::Iteration:::: 96\n",
            "4.738249310381155 ::: 4.7382590678164265\n",
            ":::::Iteration:::: 97\n",
            "4.73824443166352 ::: 4.738249310381155\n",
            ":::::Iteration:::: 98\n",
            "4.738236970095371 ::: 4.73824443166352\n",
            ":::::Iteration:::: 99\n",
            "4.738231517410955 ::: 4.738236970095371\n",
            ":::::Iteration:::: 100\n",
            "\n",
            "\n",
            "::::::::::::elseeeeee:::::::::::\n",
            "4.738233239311297 ::: 4.738231517410955\n"
          ],
          "name": "stdout"
        },
        {
          "output_type": "display_data",
          "data": {
            "image/png": "[encoded data removed]",
            "text/plain": [
              "<Figure size 432x288 with 1 Axes>"
            ]
          },
          "metadata": {
            "tags": [],
            "needs_background": "light"
          }
        }
      ]
    },
    {
      "cell_type": "code",
      "metadata": {
        "id": "_EDa7oBIEE0u"
      },
      "source": [
        "  var=df.index.tolist()"
      ],
      "execution_count": 9,
      "outputs": []
    },
    {
      "cell_type": "code",
      "metadata": {
        "id": "km5qZw-m3mv-"
      },
      "source": [
        "#recommanded_Movie=recommanded(df,generated_matrix)\n",
        "\n",
        "\n",
        "def recommanded(df,generated_matrix):\n",
        "  import math as m\n",
        "\n",
        "  usr=int(input(\"User ID: \"))\n",
        "  if(usr in var):\n",
        "    main=df.iloc[usr-1]\n",
        "    #print(main.index.tolist())\n",
        "    List_index=main.index.to_list()\n",
        "    for i in range(0, len(List_index)):\n",
        "      List_index[i] = int(List_index[i])\n",
        "    #print(List_index)\n",
        "    orginalMatrix=list(zip(List_index,main))\n",
        "    #print(orginalMatrix)\n",
        "    suggestion=generated_matrix.iloc[usr-1]\n",
        "    List_index_new_matrix=generated_matrix.index.to_list()\n",
        "    generated = list(zip(List_index_new_matrix,suggestion))\n",
        "    #print(List_index_new_matrix)\n",
        "    mixed=list(zip(orginalMatrix,generated))\n",
        "\n",
        "    suggeted_movie_index=[]\n",
        "    suggeted_movie_ratings=[]\n",
        "    for i in range (len(List_index)):\n",
        "\n",
        "      if m.isnan(orginalMatrix[i][1]):\n",
        "\n",
        "        suggeted_movie_index.append(generated[i-1][0])\n",
        "        suggeted_movie_ratings.append(generated[i][1])\n",
        "        #print(\"hello nan\")\n",
        "        #print(mixed[i][0])\n",
        "    #suggeted_movie_ratings.sort(reverse=True)\n",
        "    print(\"Top 5 Movies (movie ID, Predicted Rating) :\")\n",
        "    N=5\n",
        "    movie_with_Index=list(zip(suggeted_movie_index,suggeted_movie_ratings))\n",
        "    res = sorted(movie_with_Index, key = lambda x: x[1], reverse = True)[:N]\n",
        "    print(res)\n",
        "    # for j in list(zip(suggeted_movie_index,suggeted_movie_ratings)):\n",
        "    #   print()\n",
        "  else:\n",
        "    print(\"Unknown User\")    \n"
      ],
      "execution_count": 8,
      "outputs": []
    },
    {
      "cell_type": "code",
      "metadata": {
        "id": "GyjKUuyhhNi-"
      },
      "source": [
        "def cosine_similarity_user(u_matrix):\n",
        "  v = cosine_similarity(u_matrix.T)\n",
        "  plt.figure(figsize = (15,10))\n",
        "  sns.heatmap(v,annot=True)\n",
        "def cosine_similarity_movie(v_matrix):\n",
        "  a=  cosine_similarity(v_matrix)\n",
        "  plt.figure(figsize = (15,10))\n",
        "  sns.heatmap(a,annot=True)\n",
        "\n",
        "\n",
        "\n"
      ],
      "execution_count": 10,
      "outputs": []
    },
    {
      "cell_type": "code",
      "metadata": {
        "colab": {
          "base_uri": "https://localhost:8080/"
        },
        "id": "NWc7C_tYEtTt",
        "outputId": "20b38f58-d4dc-433c-d9c7-b95221082ff7"
      },
      "source": [
        "generated_matrix=pd.DataFrame(new_M,index=df1.index)\n",
        "generated_matrix=generated_matrix.sort_index()\n",
        "recommanded(df,generated_matrix)\n",
        "cosine_similarity_user(u_matrix)\n"
      ],
      "execution_count": null,
      "outputs": [
        {
          "output_type": "stream",
          "text": [
            "User ID: 5\n",
            "Top 5 Movies (movie ID, Predicted Rating) :\n",
            "[(1269, 9.031595230102539), (4865, 8.25700569152832), (4268, 8.242325782775879), (2708, 8.17665958404541), (1735, 8.11241340637207)]\n"
          ],
          "name": "stdout"
        }
      ]
    },
    {
      "cell_type": "code",
      "metadata": {
        "id": "hbeu-TBAMC1Q"
      },
      "source": [
        "cosine_similarity_movie(v_matrix)"
      ],
      "execution_count": null,
      "outputs": []
    },
    {
      "cell_type": "code",
      "metadata": {
        "id": "aG2ndpFnD8o1"
      },
      "source": [
        "df"
      ],
      "execution_count": null,
      "outputs": []
    }
  ]
}